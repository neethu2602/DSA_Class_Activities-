{
  "nbformat": 4,
  "nbformat_minor": 0,
  "metadata": {
    "colab": {
      "provenance": [],
      "authorship_tag": "ABX9TyPdK6Le4vNH9l0c+r1L2Hud",
      "include_colab_link": true
    },
    "kernelspec": {
      "name": "python3",
      "display_name": "Python 3"
    },
    "language_info": {
      "name": "python"
    }
  },
  "cells": [
    {
      "cell_type": "markdown",
      "metadata": {
        "id": "view-in-github",
        "colab_type": "text"
      },
      "source": [
        "<a href=\"https://colab.research.google.com/github/neethu2602/DSA_Class_Activities-/blob/main/Python_case_study_NEETHU_MATHEWipynb.ipynb\" target=\"_parent\"><img src=\"https://colab.research.google.com/assets/colab-badge.svg\" alt=\"Open In Colab\"/></a>"
      ]
    },
    {
      "cell_type": "code",
      "execution_count": null,
      "metadata": {
        "colab": {
          "base_uri": "https://localhost:8080/"
        },
        "id": "jl6-d_IvpEY1",
        "outputId": "ce117601-eb6f-46ea-8f73-96ba429ca622"
      },
      "outputs": [
        {
          "output_type": "stream",
          "name": "stdout",
          "text": [
            "maximum value: 50  minimum value : 4\n"
          ]
        }
      ],
      "source": [
        "#MAXIMUM AND MINIMUM OF LIST\n",
        "list1=[4,5,45,20,25,36,50,44]\n",
        "def max_min(numbers):\n",
        "  sortedlist=sorted(numbers)\n",
        "  max_value=sortedlist[-1]\n",
        "  min_value=sortedlist[0]\n",
        "  print(f\"maximum value: {max_value}  minimum value : {min_value}\")\n",
        "\n",
        "max_min(list1)\n",
        "\n"
      ]
    },
    {
      "cell_type": "code",
      "source": [
        "#MEAN VALUE OF A LIST\n",
        "def mean_list(numbers1):\n",
        "  length=len(numbers1)\n",
        "  return sum(numbers1) / len(numbers1)\n",
        "\n",
        "#FUNCTION CALLING\n",
        "list1=[4,5,45,20,25,36,44,50]\n",
        "print(\"mean value of list: \",mean_list(list1))\n",
        "\n"
      ],
      "metadata": {
        "colab": {
          "base_uri": "https://localhost:8080/"
        },
        "id": "xzRzq_4dpZLa",
        "outputId": "f3141742-f959-473e-a49b-0dfe46800bb8"
      },
      "execution_count": null,
      "outputs": [
        {
          "output_type": "stream",
          "name": "stdout",
          "text": [
            "mean value of list:  28.625\n"
          ]
        }
      ]
    },
    {
      "cell_type": "code",
      "source": [
        "#MEDIAN\n",
        "def median_list(numbers2):\n",
        "  new_list=sorted(numbers2)\n",
        "  mid_value = len(new_list)// 2\n",
        "  if len(new_list) % 2 == 0:\n",
        "    median_value = (new_list[mid_value - 1] + new_list[mid_value]) / 2\n",
        "  else:\n",
        "    median_value = new_list[mid_value]\n",
        "  return median_value\n",
        "# FUNCTION CALLING\n",
        "list1=[4,5,45,20,25,36,44,50]\n",
        "print(\"median is: \",median_list(list1))"
      ],
      "metadata": {
        "colab": {
          "base_uri": "https://localhost:8080/"
        },
        "id": "d4_KAxq1t-_u",
        "outputId": "0c23414b-2fe7-48be-8660-cf225c2334df"
      },
      "execution_count": null,
      "outputs": [
        {
          "output_type": "stream",
          "name": "stdout",
          "text": [
            "median is:  30.5\n"
          ]
        }
      ]
    },
    {
      "cell_type": "code",
      "source": [
        "#MODE\n",
        "def mode_value(number4):\n",
        "  mode_repeat = {}\n",
        "  for i in number4:\n",
        "    if i in mode_repeat:\n",
        "        mode_repeat[i] += 1\n",
        "    else:\n",
        "       mode_repeat[i] = 1\n",
        "  max_freq=0\n",
        "  for v in mode_repeat.values():\n",
        "    if v >max_freq:\n",
        "      max_freq=v\n",
        "\n",
        "  if max_freq==1:\n",
        "    return None\n",
        "  else:\n",
        "    mode_values=[]\n",
        "    for num,count in mode_repeat.items():\n",
        "      if mode_repeat[num]== max_freq:\n",
        "        mode_values.append(num)\n",
        "    return mode_values\n",
        "\n",
        "list1=[4,5,45,20,25,36,44,50]\n",
        "print(\"mode values: \",mode_value(list1))"
      ],
      "metadata": {
        "colab": {
          "base_uri": "https://localhost:8080/"
        },
        "id": "2LtNTcWhpZIR",
        "outputId": "891050e4-5278-40b4-978a-d7c620a2920e"
      },
      "execution_count": null,
      "outputs": [
        {
          "output_type": "stream",
          "name": "stdout",
          "text": [
            "mode values:  None\n"
          ]
        }
      ]
    },
    {
      "cell_type": "code",
      "source": [
        "#Print given Percentile value\n",
        "def percentile_list(data,percent):\n",
        "  datasort=sorted(data)\n",
        "  position=(percent/100)*(len(datasort)-1)\n",
        "  lower=int(position)\n",
        "  upper=lower+1\n",
        "  if upper>=len(data):\n",
        "    return datasort[lower]\n",
        "  return datasort[lower] + (datasort[upper] - datasort[lower]) * (position - lower)\n",
        "list1=[4,5,45,20,25,36,44,50]\n",
        "print(\"Percentile value: \",percentile_list(list1,50))\n"
      ],
      "metadata": {
        "colab": {
          "base_uri": "https://localhost:8080/"
        },
        "id": "OBErrbiJpZEp",
        "outputId": "cce462fb-291d-4888-edea-f28dbd28e959"
      },
      "execution_count": null,
      "outputs": [
        {
          "output_type": "stream",
          "name": "stdout",
          "text": [
            "Percentile value:  30.5\n"
          ]
        }
      ]
    },
    {
      "cell_type": "code",
      "source": [
        "#LOWER BOUND\n",
        "def lower_bound(list_lower):\n",
        "    sorted_lower = sorted(list_lower)\n",
        "    n = len(sorted_lower)\n",
        "\n",
        "    # Q1\n",
        "    lower_half = sorted_lower[:n // 2]  # lower half for Q1\n",
        "    m = len(lower_half)\n",
        "    if m % 2 == 0:\n",
        "        q1 = (lower_half[m // 2 - 1] + lower_half[m // 2]) / 2\n",
        "    else:\n",
        "        q1 = lower_half[m // 2]\n",
        "\n",
        "    # Q3 (for IQR calculation)\n",
        "    if n % 2 == 0:\n",
        "        upper_half = sorted_lower[n // 2:]\n",
        "    else:\n",
        "        upper_half = sorted_lower[n // 2 + 1:]\n",
        "    m2 = len(upper_half)\n",
        "    if m2 % 2 == 0:\n",
        "        q3 = (upper_half[m2 // 2 - 1] + upper_half[m2 // 2]) / 2\n",
        "    else:\n",
        "        q3 = upper_half[m2 // 2]\n",
        "\n",
        "    # IQR\n",
        "    iqr = q3 - q1\n",
        "\n",
        "    # Lower Bound\n",
        "    lower_limit = q1 - 1.5 * iqr\n",
        "    return lower_limit\n",
        "\n",
        "\n",
        "# Function call\n",
        "list2 = [50, 25, 30, 99, 60, 75, 310]\n",
        "print(\"lower bound: \",lower_bound(list2))"
      ],
      "metadata": {
        "colab": {
          "base_uri": "https://localhost:8080/"
        },
        "id": "j9vM5OyA-e4w",
        "outputId": "4efea7c0-1de3-44d4-feb8-904d8ae6b2c5"
      },
      "execution_count": 41,
      "outputs": [
        {
          "output_type": "stream",
          "name": "stdout",
          "text": [
            "lower bound:  -73.5\n"
          ]
        }
      ]
    },
    {
      "cell_type": "code",
      "source": [
        "#OUTLIERS\n",
        "def outliers(list_outlier):\n",
        "  n=len(list_outlier)\n",
        "  if n % 2 == 0:\n",
        "    q2 = (list_outlier[n//2 - 1] + list_outlier[n//2]) / 2\n",
        "  else:\n",
        "    q2 = list_outlier[n//2]\n",
        "\n",
        "#Q1\n",
        "  lower_half = list_outlier[:n//2]\n",
        "  m = len(lower_half)\n",
        "  if m % 2 == 0:\n",
        "    Q1 = (lower_half[m//2 - 1] + lower_half[m//2]) / 2\n",
        "  else:\n",
        "    Q1 = lower_half[m//2]\n",
        "\n",
        "#Q3\n",
        "  upper_half = list_outlier[n//2:]\n",
        "  m2 = len(upper_half)\n",
        "  if m2 % 2 == 0:\n",
        "    Q3 = (upper_half[m2//2 - 1] + upper_half[m2//2]) / 2\n",
        "  else:\n",
        "    Q3 = upper_half[m2//2]\n",
        "\n",
        "\n",
        "#IQR\n",
        "  IQR = Q3 - Q1\n",
        "  IQR\n",
        "\n",
        "#Lower Limit,Upper limit\n",
        "  lower_limit= Q1 - 1.5 * IQR\n",
        "  upper_limit = Q3 + 1.5 * IQR\n",
        "\n",
        "  outliers = []\n",
        "  for value in list_outlier:\n",
        "    if value < lower_limit or value > upper_limit:\n",
        "        outliers.append(value)\n",
        "  if not outliers:\n",
        "    return \"No outliers\"\n",
        "  else:\n",
        "    return outliers\n",
        "list2=[50,25,30,99,60,75,310]\n",
        "print(\"Outliers: \",outliers(list2))\n"
      ],
      "metadata": {
        "colab": {
          "base_uri": "https://localhost:8080/"
        },
        "id": "iGRwTcPe8lWf",
        "outputId": "39eb71f1-4bb0-4a3a-818c-72b6a4fed056"
      },
      "execution_count": null,
      "outputs": [
        {
          "output_type": "stream",
          "name": "stdout",
          "text": [
            "Outliers:  [310]\n"
          ]
        }
      ]
    },
    {
      "cell_type": "code",
      "source": [
        "# POPULATION STANDARD DEVIATION\n",
        "def standard_deviation (list4):\n",
        "  mean_std=sum(list4) / len(list4)\n",
        "\n",
        "  squared=[]\n",
        "  for num in list4:\n",
        "    squared.append((num - mean_std) ** 2)\n",
        "  variance=sum(squared)/len(list4)\n",
        "  std_dev = variance ** 0.5\n",
        "  return std_dev\n",
        "\n",
        "#function calling\n",
        "list2=[50,25,30,99,60,75,310]\n",
        "print(standard_deviation(list2))\n",
        "\n"
      ],
      "metadata": {
        "id": "xuAPnUgV8lS5",
        "colab": {
          "base_uri": "https://localhost:8080/"
        },
        "outputId": "62420e59-e25e-4d3a-9af5-baeaf4b3ac95"
      },
      "execution_count": null,
      "outputs": [
        {
          "output_type": "stream",
          "name": "stdout",
          "text": [
            "91.791244969557\n"
          ]
        }
      ]
    },
    {
      "cell_type": "code",
      "source": [
        "#STANDARD DEVIATION SAMPLE\n",
        "def standard_deviation (list4):\n",
        "  mean_std=sum(list4) / len(list4)\n",
        "\n",
        "  squared=[]\n",
        "  for num in list4:\n",
        "    squared.append((num - mean_std) ** 2)\n",
        "    variance = sum(squared) / (len(list4) - 1)\n",
        "    std_dev = variance ** 0.5\n",
        "  return std_dev\n",
        "\n",
        "#function calling\n",
        "list2=[50,25,30,99,60,75,310]\n",
        "print(standard_deviation(list2))"
      ],
      "metadata": {
        "colab": {
          "base_uri": "https://localhost:8080/"
        },
        "id": "Jn5EC9Q6qWgm",
        "outputId": "1c99d78b-c1ed-478c-b16a-799f30e37568"
      },
      "execution_count": null,
      "outputs": [
        {
          "output_type": "stream",
          "name": "stdout",
          "text": [
            "99.14587617195563\n"
          ]
        }
      ]
    },
    {
      "cell_type": "code",
      "source": [
        "#Z SCORE VALUES\n",
        "\n",
        "def zscore(list6):\n",
        "  mean_zscore=sum(list6) / len(list6)\n",
        "\n",
        "  squared=[]\n",
        "  for num in list6:\n",
        "    squared.append((num - mean_zscore) ** 2)\n",
        "  variance_zscore=sum(squared)/len(list6)\n",
        "  std_dev_zscore = variance_zscore ** 0.5\n",
        "\n",
        "  zscore_values=[]\n",
        "  for num in list6:\n",
        "    score=(num-mean_zscore)/std_dev_zscore\n",
        "    zscore_values.append(score)\n",
        "  return zscore_values\n",
        "list2=[50,25,30,99,60,75,310]\n",
        "print(zscore(list2))"
      ],
      "metadata": {
        "id": "ie2Nz30O8lP0",
        "colab": {
          "base_uri": "https://localhost:8080/"
        },
        "outputId": "cb55cb0f-fdb9-4a68-d97d-ca2a29e209ef"
      },
      "execution_count": null,
      "outputs": [
        {
          "output_type": "stream",
          "name": "stdout",
          "text": [
            "[-0.4653416099591209, -0.7376987395338572, -0.68322731361891, 0.06847836400736235, -0.35639875812922633, -0.19298448038438454, 2.3671725376181367]\n"
          ]
        }
      ]
    },
    {
      "cell_type": "code",
      "source": [
        "#PEARSON CORRELATION\n",
        "def pearson_correlation(list7, list8):\n",
        "    n = len(list7)\n",
        "\n",
        "    sum_x = sum(list7)\n",
        "    sum_y = sum(list8)\n",
        "    sum_xy = sum(x * y for x, y in zip(list7, list8))\n",
        "    sum_x2 = sum(x ** 2 for x in list7)\n",
        "    sum_y2 = sum(y ** 2 for y in list8)\n",
        "\n",
        "    numerator = n * sum_xy - sum_x * sum_y\n",
        "    denominator = ((n * sum_x2 - sum_x ** 2) * (n * sum_y2 - sum_y ** 2)) ** 0.5\n",
        "\n",
        "    if denominator == 0:\n",
        "        return None\n",
        "\n",
        "    return numerator / denominator\n",
        "x=[1, 2, 3, 4, 5,8,55]\n",
        "y=[50, 60, 70, 80, 90,48,62]\n",
        "print(\"Pearson correlation:\", pearson_correlation(x, y))"
      ],
      "metadata": {
        "colab": {
          "base_uri": "https://localhost:8080/"
        },
        "id": "xqIJ7A6RnWuB",
        "outputId": "8dd4f0df-ce7e-4c87-d7a6-e1aa4b77de8b"
      },
      "execution_count": null,
      "outputs": [
        {
          "output_type": "stream",
          "name": "stdout",
          "text": [
            "Pearson correlation: -0.1011242317923758\n"
          ]
        }
      ]
    }
  ]
}