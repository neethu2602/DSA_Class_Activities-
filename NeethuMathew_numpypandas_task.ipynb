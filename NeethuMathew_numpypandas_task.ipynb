{
  "nbformat": 4,
  "nbformat_minor": 0,
  "metadata": {
    "colab": {
      "provenance": [],
      "authorship_tag": "ABX9TyNK0f67cE9hWcj6p1A4l/q+",
      "include_colab_link": true
    },
    "kernelspec": {
      "name": "python3",
      "display_name": "Python 3"
    },
    "language_info": {
      "name": "python"
    }
  },
  "cells": [
    {
      "cell_type": "markdown",
      "metadata": {
        "id": "view-in-github",
        "colab_type": "text"
      },
      "source": [
        "<a href=\"https://colab.research.google.com/github/neethu2602/DSA_Class_Activities-/blob/main/NeethuMathew_numpypandas_task.ipynb\" target=\"_parent\"><img src=\"https://colab.research.google.com/assets/colab-badge.svg\" alt=\"Open In Colab\"/></a>"
      ]
    },
    {
      "cell_type": "code",
      "execution_count": 2,
      "metadata": {
        "colab": {
          "base_uri": "https://localhost:8080/"
        },
        "id": "5XMuKhSzAgPS",
        "outputId": "5fcd2d3e-c6b4-4201-aa4f-0ad8746638ad"
      },
      "outputs": [
        {
          "output_type": "stream",
          "name": "stdout",
          "text": [
            "Array: \n",
            " [10 11 12 13 14 15 16 17 18 19 20 21 22 23 24 25 26 27 28 29 30 31 32 33\n",
            " 34 35 36 37 38 39 40 41 42 43 44 45 46 47 48 49]\n",
            "Reshaped array: \n",
            " [[10 11 12 13 14 15 16 17 18 19]\n",
            " [20 21 22 23 24 25 26 27 28 29]\n",
            " [30 31 32 33 34 35 36 37 38 39]\n",
            " [40 41 42 43 44 45 46 47 48 49]]\n",
            "Last column: \n",
            " [19 29 39 49]\n"
          ]
        }
      ],
      "source": [
        "#Q1\n",
        "import numpy as np\n",
        "\n",
        "A1 = np.arange(10, 50)\n",
        "A2 = A1.reshape(4, 10)\n",
        "last_col = A2[:, -1]\n",
        "\n",
        "print(\"Array: \\n\",A1)\n",
        "print(\"Reshaped array: \\n\",A2)\n",
        "print(\"Last column: \\n\",last_col)\n"
      ]
    },
    {
      "cell_type": "code",
      "source": [
        "#Q2\n",
        "B1 = np.full((3, 3), 5)\n",
        "B2 = np.arange(1, 10).reshape(3, 3)\n",
        "\n",
        "addition = B1 + B2\n",
        "multiply= B1 * B2\n",
        "\n",
        "transpose1=addition.T\n",
        "transpose = multiply.T\n",
        "\n",
        "print(\"Matrix with full 5: \\n\",B1)\n",
        "print(\"\\n Values 1 to 9: \\n\",B2)\n",
        "print(\"\\n Addition: \\n\",addition)\n",
        "print(\"\\n Multiplication: \\n\",multiply)\n",
        "print(\"\\n Transpose of addition: \\n\",transpose1 )\n",
        "print(\"\\n Transpose of multiplication: \\n\",transpose)\n"
      ],
      "metadata": {
        "colab": {
          "base_uri": "https://localhost:8080/"
        },
        "id": "Btr71uDAB63j",
        "outputId": "23bf9010-df2a-411a-eb3e-d9c4cc69f840"
      },
      "execution_count": 7,
      "outputs": [
        {
          "output_type": "stream",
          "name": "stdout",
          "text": [
            "Matrix with full 5: \n",
            " [[5 5 5]\n",
            " [5 5 5]\n",
            " [5 5 5]]\n",
            "\n",
            " Values 1 to 9: \n",
            " [[1 2 3]\n",
            " [4 5 6]\n",
            " [7 8 9]]\n",
            "\n",
            " Addition: \n",
            " [[ 6  7  8]\n",
            " [ 9 10 11]\n",
            " [12 13 14]]\n",
            "\n",
            " Multiplication: \n",
            " [[ 5 10 15]\n",
            " [20 25 30]\n",
            " [35 40 45]]\n",
            "\n",
            " Transpose of addition: \n",
            " [[ 6  9 12]\n",
            " [ 7 10 13]\n",
            " [ 8 11 14]]\n",
            "\n",
            " Transpose of multiplication: \n",
            " [[ 5 20 35]\n",
            " [10 25 40]\n",
            " [15 30 45]]\n"
          ]
        }
      ]
    },
    {
      "cell_type": "code",
      "source": [
        "#Q3\n",
        "C1 = np.random.randint(10, 101, size=15)\n",
        "modified_c1 = np.where(C1 > 50, -1, C1)\n",
        "replaced = np.sum(C1 > 50)\n",
        "\n",
        "print(\"Original Array:\\n\", C1)\n",
        "print(\"\\nModified Array:\\n\", modified_c1)\n",
        "print(\"\\nNumber of values replaced:\", replaced)\n"
      ],
      "metadata": {
        "colab": {
          "base_uri": "https://localhost:8080/"
        },
        "id": "Eoadz4TnDgUA",
        "outputId": "ef879c37-77eb-4aa6-8fcb-f1656a0a8ad9"
      },
      "execution_count": 9,
      "outputs": [
        {
          "output_type": "stream",
          "name": "stdout",
          "text": [
            "Original Array:\n",
            " [84 11 70 39 52 82 64 47 64 52 93 24 47 30 47]\n",
            "\n",
            "Modified Array:\n",
            " [-1 11 -1 39 -1 -1 -1 47 -1 -1 -1 24 47 30 47]\n",
            "\n",
            "Number of values replaced: 8\n"
          ]
        }
      ]
    },
    {
      "cell_type": "code",
      "source": [
        "#Q4\n",
        "J1 = np.random.rand(5, 4)\n",
        "row_sums = J1.sum(axis=1)\n",
        "max_index = np.argmax(row_sums)\n",
        "max_sum_row = J1[max_index]\n",
        "normalized = (J1 - J1.min(axis=1, keepdims=True)) / (J1.max(axis=1, keepdims=True) - J1.min(axis=1, keepdims=True))\n",
        "print(\"Orginal: \\n\",J1)\n",
        "print(\"\\nRow with maximum sum: \\n\",max_sum_row)\n",
        "print(\"\\nnormalized : \\n\",normalized)"
      ],
      "metadata": {
        "colab": {
          "base_uri": "https://localhost:8080/"
        },
        "id": "hjIFmr5hIiNg",
        "outputId": "d2983da0-5259-44a5-9823-f3b569650e59"
      },
      "execution_count": 36,
      "outputs": [
        {
          "output_type": "stream",
          "name": "stdout",
          "text": [
            "Orginal: \n",
            " [[0.00242083 0.19498687 0.8598546  0.50595772]\n",
            " [0.11568852 0.35027476 0.22282871 0.10410984]\n",
            " [0.79467204 0.59065986 0.77600851 0.0972681 ]\n",
            " [0.97645797 0.28586787 0.46987841 0.20023866]\n",
            " [0.93649278 0.36320454 0.00388065 0.7032748 ]]\n",
            "\n",
            "Row with maximum sum: \n",
            " [0.79467204 0.59065986 0.77600851 0.0972681 ]\n",
            "\n",
            "normalized : \n",
            " [[0.         0.22458415 1.         0.58726039]\n",
            " [0.04703627 1.         0.48227372 0.        ]\n",
            " [1.         0.70746913 0.97323857 0.        ]\n",
            " [1.         0.11031574 0.34737573 0.        ]\n",
            " [1.         0.3852876  0.         0.74993036]]\n"
          ]
        }
      ]
    },
    {
      "cell_type": "code",
      "source": [
        "#Q5\n",
        "G1 = np.array([1, 3, 5, 3, 7, 9, 1, 5, 5])\n",
        "unique_elements = np.unique(G1)\n",
        "duplicates = [item for item in unique_elements if np.count_nonzero(G1 == item) > 1]\n",
        "\n",
        "print(\"Unique elements:\", unique_elements)\n",
        "print(\"Duplicates:\", duplicates)\n"
      ],
      "metadata": {
        "colab": {
          "base_uri": "https://localhost:8080/"
        },
        "id": "XRn5ASc2HXOS",
        "outputId": "56e63e3f-51b8-4d6c-ce00-5d8bd7b27a3d"
      },
      "execution_count": 18,
      "outputs": [
        {
          "output_type": "stream",
          "name": "stdout",
          "text": [
            "Unique elements: [1 3 5 7 9]\n",
            "Duplicates: [np.int64(1), np.int64(3), np.int64(5)]\n"
          ]
        }
      ]
    },
    {
      "cell_type": "code",
      "source": [
        "#q6\n",
        "H1 = np.arange(1, 37).reshape(6, 6)\n",
        "submatrix = H1[1:5, 1:5]\n",
        "even_numbers = submatrix[submatrix % 2 == 0]\n",
        "\n",
        "print(\"Original Matrix:\\n\", H1)\n",
        "print(\"\\nMiddle Submatrix:\\n\", submatrix)\n",
        "print(\"\\nEven numbers from Submatrix:\\n\", even_numbers)\n"
      ],
      "metadata": {
        "colab": {
          "base_uri": "https://localhost:8080/"
        },
        "id": "CiO1nexEHyHo",
        "outputId": "a86dcf32-9f27-496d-cf90-fc134fb14ef7"
      },
      "execution_count": 20,
      "outputs": [
        {
          "output_type": "stream",
          "name": "stdout",
          "text": [
            "Original Matrix:\n",
            " [[ 1  2  3  4  5  6]\n",
            " [ 7  8  9 10 11 12]\n",
            " [13 14 15 16 17 18]\n",
            " [19 20 21 22 23 24]\n",
            " [25 26 27 28 29 30]\n",
            " [31 32 33 34 35 36]]\n",
            "\n",
            "Middle Submatrix:\n",
            " [[ 8  9 10 11]\n",
            " [14 15 16 17]\n",
            " [20 21 22 23]\n",
            " [26 27 28 29]]\n",
            "\n",
            "Even numbers from Submatrix:\n",
            " [ 8 10 14 16 20 22 26 28]\n"
          ]
        }
      ]
    },
    {
      "cell_type": "code",
      "source": [
        "#Q7\n",
        "D1 = np.arange(12).reshape(3, 4)\n",
        "reshaped_D1 = D1.reshape(2, 6)\n",
        "flattened = D1.flatten()\n",
        "\n",
        "reshaped_D2 = flattened.reshape(4, 3)\n",
        "\n",
        "print(\"Original:\\n\", D1)\n",
        "print(\"\\nReshaped:\\n\", reshaped_D1)\n",
        "print(\"\\nFlattened:\\n\", flattened)\n",
        "print(\"\\nReshaped back :\\n\", reshaped_D2)\n"
      ],
      "metadata": {
        "colab": {
          "base_uri": "https://localhost:8080/"
        },
        "id": "CHhXhL-VDgQq",
        "outputId": "9d879157-3c7c-40c0-9d39-268b5199fac6"
      },
      "execution_count": 58,
      "outputs": [
        {
          "output_type": "stream",
          "name": "stdout",
          "text": [
            "Original:\n",
            " [[ 0  1  2  3]\n",
            " [ 4  5  6  7]\n",
            " [ 8  9 10 11]]\n",
            "\n",
            "Reshaped:\n",
            " [[ 0  1  2  3  4  5]\n",
            " [ 6  7  8  9 10 11]]\n",
            "\n",
            "Flattened:\n",
            " [ 0  1  2  3  4  5  6  7  8  9 10 11]\n",
            "\n",
            "Reshaped back :\n",
            " [[ 0  1  2]\n",
            " [ 3  4  5]\n",
            " [ 6  7  8]\n",
            " [ 9 10 11]]\n"
          ]
        }
      ]
    },
    {
      "cell_type": "code",
      "source": [
        "#Q8\n",
        "a = np.array([[1, 2], [3, 4]])\n",
        "append_row = np.vstack([a, [5, 6]])\n",
        "append_col = np.column_stack([append_row, [7, 8, 9]])\n",
        "\n",
        "print(\"First: \\n\",a)\n",
        "print(\"\\nAfter adding row:\\n\", append_row)\n",
        "print(\"\\nAfter adding column:\\n\", append_col)"
      ],
      "metadata": {
        "colab": {
          "base_uri": "https://localhost:8080/"
        },
        "id": "ZqcrLgSuDgLM",
        "outputId": "972d4c8a-635f-4cb3-f4fc-8f85db397cd1"
      },
      "execution_count": 15,
      "outputs": [
        {
          "output_type": "stream",
          "name": "stdout",
          "text": [
            "First: \n",
            " [[1 2]\n",
            " [3 4]]\n",
            "\n",
            "After adding row:\n",
            " [[1 2]\n",
            " [3 4]\n",
            " [5 6]]\n",
            "\n",
            "After adding column:\n",
            " [[1 2 7]\n",
            " [3 4 8]\n",
            " [5 6 9]]\n"
          ]
        }
      ]
    },
    {
      "cell_type": "code",
      "source": [
        "#Q9\n",
        "E1 = np.array([1, 2, 3])\n",
        "E2 = np.array([4, 5, 6])\n",
        "E3 = np.array([7, 8, 9])\n",
        "\n",
        "\n",
        "joined = np.concatenate([E1,E2,E3])\n",
        "reshaped = joined.reshape(3, 3)\n",
        "\n",
        "diagonal = np.diag(reshaped)\n",
        "\n",
        "print(\"Joined Array:\\n\", joined)\n",
        "print(\"\\n Matrix:\\n\", reshaped)\n",
        "print(\"\\nDiagonal Elements:\\n\", diagonal)\n"
      ],
      "metadata": {
        "colab": {
          "base_uri": "https://localhost:8080/"
        },
        "id": "B4R7JEbDF_pA",
        "outputId": "a2ff8aac-f118-43e5-ced9-2cb69ce3fff0"
      },
      "execution_count": 16,
      "outputs": [
        {
          "output_type": "stream",
          "name": "stdout",
          "text": [
            "Joined Array:\n",
            " [1 2 3 4 5 6 7 8 9]\n",
            "\n",
            " Matrix:\n",
            " [[1 2 3]\n",
            " [4 5 6]\n",
            " [7 8 9]]\n",
            "\n",
            "Diagonal Elements:\n",
            " [1 5 9]\n"
          ]
        }
      ]
    },
    {
      "cell_type": "code",
      "source": [
        "#Q10\n",
        "F1 = np.arange(1, 21)\n",
        "\n",
        "filtered = F1[(F1 % 3 == 0) | (F1 % 5 == 0)]\n",
        "count = filtered.size\n",
        "\n",
        "print(\"Array:\\n\", F1)\n",
        "print(\"\\nDivisible by 3 or 5:\\n\", filtered)\n",
        "print(\"\\nCount:\", count)\n"
      ],
      "metadata": {
        "colab": {
          "base_uri": "https://localhost:8080/"
        },
        "id": "fSi_2kupGeTP",
        "outputId": "9f591b2e-2094-4dbf-c421-56ae2268f534"
      },
      "execution_count": 17,
      "outputs": [
        {
          "output_type": "stream",
          "name": "stdout",
          "text": [
            "Array:\n",
            " [ 1  2  3  4  5  6  7  8  9 10 11 12 13 14 15 16 17 18 19 20]\n",
            "\n",
            "Divisible by 3 or 5:\n",
            " [ 3  5  6  9 10 12 15 18 20]\n",
            "\n",
            "Count: 9\n"
          ]
        }
      ]
    },
    {
      "cell_type": "markdown",
      "source": [
        "###Pandas"
      ],
      "metadata": {
        "id": "oY3gZK-oLHmu"
      }
    },
    {
      "cell_type": "code",
      "source": [
        "import pandas as pd\n",
        "import seaborn as sns\n",
        "#Q1\n",
        "df = sns.load_dataset(\"titanic\")\n",
        "print(df.head(10))"
      ],
      "metadata": {
        "colab": {
          "base_uri": "https://localhost:8080/"
        },
        "id": "5b1CVwYILHVB",
        "outputId": "cdb26c22-bf6c-4199-c512-f37c8fd84b4b"
      },
      "execution_count": 59,
      "outputs": [
        {
          "output_type": "stream",
          "name": "stdout",
          "text": [
            "   survived  pclass     sex   age  sibsp  parch     fare embarked   class  \\\n",
            "0         0       3    male  22.0      1      0   7.2500        S   Third   \n",
            "1         1       1  female  38.0      1      0  71.2833        C   First   \n",
            "2         1       3  female  26.0      0      0   7.9250        S   Third   \n",
            "3         1       1  female  35.0      1      0  53.1000        S   First   \n",
            "4         0       3    male  35.0      0      0   8.0500        S   Third   \n",
            "5         0       3    male   NaN      0      0   8.4583        Q   Third   \n",
            "6         0       1    male  54.0      0      0  51.8625        S   First   \n",
            "7         0       3    male   2.0      3      1  21.0750        S   Third   \n",
            "8         1       3  female  27.0      0      2  11.1333        S   Third   \n",
            "9         1       2  female  14.0      1      0  30.0708        C  Second   \n",
            "\n",
            "     who  adult_male deck  embark_town alive  alone  \n",
            "0    man        True  NaN  Southampton    no  False  \n",
            "1  woman       False    C    Cherbourg   yes  False  \n",
            "2  woman       False  NaN  Southampton   yes   True  \n",
            "3  woman       False    C  Southampton   yes  False  \n",
            "4    man        True  NaN  Southampton    no   True  \n",
            "5    man        True  NaN   Queenstown    no   True  \n",
            "6    man        True    E  Southampton    no   True  \n",
            "7  child       False  NaN  Southampton    no  False  \n",
            "8  woman       False  NaN  Southampton   yes  False  \n",
            "9  child       False  NaN    Cherbourg   yes  False  \n"
          ]
        }
      ]
    },
    {
      "cell_type": "code",
      "source": [
        "#Q2\n",
        "print(df.isnull().sum())"
      ],
      "metadata": {
        "colab": {
          "base_uri": "https://localhost:8080/"
        },
        "id": "UzQIOd-LLHRd",
        "outputId": "8e58b7d4-5e61-4bc8-cb7b-e2284923e34e"
      },
      "execution_count": 39,
      "outputs": [
        {
          "output_type": "stream",
          "name": "stdout",
          "text": [
            "survived         0\n",
            "pclass           0\n",
            "sex              0\n",
            "age            177\n",
            "sibsp            0\n",
            "parch            0\n",
            "fare             0\n",
            "embarked         2\n",
            "class            0\n",
            "who              0\n",
            "adult_male       0\n",
            "deck           688\n",
            "embark_town      2\n",
            "alive            0\n",
            "alone            0\n",
            "dtype: int64\n"
          ]
        }
      ]
    },
    {
      "cell_type": "code",
      "source": [
        "#Q3\n",
        "survival = df.groupby(\"sex\")[\"survived\"].mean() * 100\n",
        "print(survival)\n"
      ],
      "metadata": {
        "colab": {
          "base_uri": "https://localhost:8080/"
        },
        "id": "iGCUDo5LLHOt",
        "outputId": "bf56e1d4-1c6b-4b92-fb4d-1d977d0b3670"
      },
      "execution_count": 41,
      "outputs": [
        {
          "output_type": "stream",
          "name": "stdout",
          "text": [
            "sex\n",
            "female    74.203822\n",
            "male      18.890815\n",
            "Name: survived, dtype: float64\n"
          ]
        }
      ]
    },
    {
      "cell_type": "code",
      "source": [
        "#Q4\n",
        "avg_age = df[\"age\"].mean()\n",
        "median_age = df[\"age\"].median()\n",
        "std_age = df[\"age\"].std()\n",
        "\n",
        "print(\"Average Age:\", avg_age)\n",
        "print(\"\\nMedian Age:\", median_age)\n",
        "print(\"\\nStandard Deviation Age:\", std_age)\n"
      ],
      "metadata": {
        "colab": {
          "base_uri": "https://localhost:8080/"
        },
        "id": "dqKd4sYyLHL-",
        "outputId": "7bfbff62-cfa5-495c-f65c-d9d31748e246"
      },
      "execution_count": 46,
      "outputs": [
        {
          "output_type": "stream",
          "name": "stdout",
          "text": [
            "Average Age: 29.69911764705882\n",
            "\n",
            "Median Age: 28.0\n",
            "\n",
            "Standard Deviation Age: 14.526497332334044\n"
          ]
        }
      ]
    },
    {
      "cell_type": "code",
      "source": [
        "#Q5\n",
        "print(df[\"pclass\"].value_counts())\n"
      ],
      "metadata": {
        "colab": {
          "base_uri": "https://localhost:8080/"
        },
        "id": "lnk5O0pVLHJL",
        "outputId": "1f02d839-15c4-4134-d457-9a080dd1f767"
      },
      "execution_count": 47,
      "outputs": [
        {
          "output_type": "stream",
          "name": "stdout",
          "text": [
            "pclass\n",
            "3    491\n",
            "1    216\n",
            "2    184\n",
            "Name: count, dtype: int64\n"
          ]
        }
      ]
    },
    {
      "cell_type": "code",
      "source": [
        "#Q6\n",
        "Survived = df[(df[\"sex\"] == \"female\") & (df[\"age\"] < 18) & (df[\"survived\"] == 1)]\n",
        "print(Survived)\n"
      ],
      "metadata": {
        "colab": {
          "base_uri": "https://localhost:8080/"
        },
        "id": "3TkQP5T_LHGP",
        "outputId": "ea0538c7-a4eb-4b26-d06d-58345869f75d"
      },
      "execution_count": 48,
      "outputs": [
        {
          "output_type": "stream",
          "name": "stdout",
          "text": [
            "     survived  pclass     sex    age  sibsp  parch      fare embarked   class  \\\n",
            "9           1       2  female  14.00      1      0   30.0708        C  Second   \n",
            "10          1       3  female   4.00      1      1   16.7000        S   Third   \n",
            "22          1       3  female  15.00      0      0    8.0292        Q   Third   \n",
            "39          1       3  female  14.00      1      0   11.2417        C   Third   \n",
            "43          1       2  female   3.00      1      2   41.5792        C  Second   \n",
            "58          1       2  female   5.00      1      2   27.7500        S  Second   \n",
            "68          1       3  female  17.00      4      2    7.9250        S   Third   \n",
            "84          1       2  female  17.00      0      0   10.5000        S  Second   \n",
            "156         1       3  female  16.00      0      0    7.7333        Q   Third   \n",
            "172         1       3  female   1.00      1      1   11.1333        S   Third   \n",
            "184         1       3  female   4.00      0      2   22.0250        S   Third   \n",
            "208         1       3  female  16.00      0      0    7.7500        Q   Third   \n",
            "233         1       3  female   5.00      4      2   31.3875        S   Third   \n",
            "237         1       2  female   8.00      0      2   26.2500        S  Second   \n",
            "307         1       1  female  17.00      1      0  108.9000        C   First   \n",
            "329         1       1  female  16.00      0      1   57.9792        C   First   \n",
            "381         1       3  female   1.00      0      2   15.7417        C   Third   \n",
            "389         1       2  female  17.00      0      0   12.0000        C  Second   \n",
            "435         1       1  female  14.00      1      2  120.0000        S   First   \n",
            "446         1       2  female  13.00      0      1   19.5000        S  Second   \n",
            "448         1       3  female   5.00      2      1   19.2583        C   Third   \n",
            "469         1       3  female   0.75      2      1   19.2583        C   Third   \n",
            "479         1       3  female   2.00      0      1   12.2875        S   Third   \n",
            "504         1       1  female  16.00      0      0   86.5000        S   First   \n",
            "530         1       2  female   2.00      1      1   26.0000        S  Second   \n",
            "535         1       2  female   7.00      0      2   26.2500        S  Second   \n",
            "618         1       2  female   4.00      2      1   39.0000        S  Second   \n",
            "644         1       3  female   0.75      2      1   19.2583        C   Third   \n",
            "689         1       1  female  15.00      0      1  211.3375        S   First   \n",
            "691         1       3  female   4.00      0      1   13.4167        C   Third   \n",
            "720         1       2  female   6.00      0      1   33.0000        S  Second   \n",
            "750         1       2  female   4.00      1      1   23.0000        S  Second   \n",
            "777         1       3  female   5.00      0      0   12.4750        S   Third   \n",
            "780         1       3  female  13.00      0      0    7.2292        C   Third   \n",
            "781         1       1  female  17.00      1      0   57.0000        S   First   \n",
            "830         1       3  female  15.00      1      0   14.4542        C   Third   \n",
            "853         1       1  female  16.00      0      1   39.4000        S   First   \n",
            "875         1       3  female  15.00      0      0    7.2250        C   Third   \n",
            "\n",
            "       who  adult_male deck  embark_town alive  alone  \n",
            "9    child       False  NaN    Cherbourg   yes  False  \n",
            "10   child       False    G  Southampton   yes  False  \n",
            "22   child       False  NaN   Queenstown   yes   True  \n",
            "39   child       False  NaN    Cherbourg   yes  False  \n",
            "43   child       False  NaN    Cherbourg   yes  False  \n",
            "58   child       False  NaN  Southampton   yes  False  \n",
            "68   woman       False  NaN  Southampton   yes  False  \n",
            "84   woman       False  NaN  Southampton   yes   True  \n",
            "156  woman       False  NaN   Queenstown   yes   True  \n",
            "172  child       False  NaN  Southampton   yes  False  \n",
            "184  child       False  NaN  Southampton   yes  False  \n",
            "208  woman       False  NaN   Queenstown   yes   True  \n",
            "233  child       False  NaN  Southampton   yes  False  \n",
            "237  child       False  NaN  Southampton   yes  False  \n",
            "307  woman       False    C    Cherbourg   yes  False  \n",
            "329  woman       False    B    Cherbourg   yes  False  \n",
            "381  child       False  NaN    Cherbourg   yes  False  \n",
            "389  woman       False  NaN    Cherbourg   yes   True  \n",
            "435  child       False    B  Southampton   yes  False  \n",
            "446  child       False  NaN  Southampton   yes  False  \n",
            "448  child       False  NaN    Cherbourg   yes  False  \n",
            "469  child       False  NaN    Cherbourg   yes  False  \n",
            "479  child       False  NaN  Southampton   yes  False  \n",
            "504  woman       False    B  Southampton   yes   True  \n",
            "530  child       False  NaN  Southampton   yes  False  \n",
            "535  child       False  NaN  Southampton   yes  False  \n",
            "618  child       False    F  Southampton   yes  False  \n",
            "644  child       False  NaN    Cherbourg   yes  False  \n",
            "689  child       False    B  Southampton   yes  False  \n",
            "691  child       False  NaN    Cherbourg   yes  False  \n",
            "720  child       False  NaN  Southampton   yes  False  \n",
            "750  child       False  NaN  Southampton   yes  False  \n",
            "777  child       False  NaN  Southampton   yes   True  \n",
            "780  child       False  NaN    Cherbourg   yes   True  \n",
            "781  woman       False    B  Southampton   yes  False  \n",
            "830  child       False  NaN    Cherbourg   yes  False  \n",
            "853  woman       False    D  Southampton   yes  False  \n",
            "875  child       False  NaN    Cherbourg   yes   True  \n"
          ]
        }
      ]
    },
    {
      "cell_type": "code",
      "source": [
        "#Q7\n",
        "df[\"age\"] = df[\"age\"].fillna(df[\"age\"].median())\n"
      ],
      "metadata": {
        "id": "BRgQj4KSLHDo"
      },
      "execution_count": 50,
      "outputs": []
    },
    {
      "cell_type": "code",
      "source": [
        "#Q8\n",
        "df[\"age_group\"] = np.where(df[\"age\"] < 18, \"Child\",\n",
        "                  np.where(df[\"age\"] > 60, \"Senior\", \"Adult\"))\n",
        "print(df[[\"age\", \"age_group\"]].head(10))\n",
        "\n",
        "\n",
        "\n",
        "#OR\n",
        "def categorize_age(age):\n",
        "    if age < 18:\n",
        "        return \"Child\"\n",
        "    elif age > 60:\n",
        "        return \"Senior\"\n",
        "    else:\n",
        "        return \"Adult\"\n",
        "\n",
        "df[\"age_group\"] = df[\"age\"].apply(categorize_age)\n",
        "print(df[[\"age\", \"age_group\"]].head(10))\n"
      ],
      "metadata": {
        "colab": {
          "base_uri": "https://localhost:8080/"
        },
        "id": "xFjUYpIuLHA-",
        "outputId": "f2e4d539-714a-4a9f-8f38-6a43024723e2"
      },
      "execution_count": 51,
      "outputs": [
        {
          "output_type": "stream",
          "name": "stdout",
          "text": [
            "    age age_group\n",
            "0  22.0     Adult\n",
            "1  38.0     Adult\n",
            "2  26.0     Adult\n",
            "3  35.0     Adult\n",
            "4  35.0     Adult\n",
            "5  28.0     Adult\n",
            "6  54.0     Adult\n",
            "7   2.0     Child\n",
            "8  27.0     Adult\n",
            "9  14.0     Child\n"
          ]
        }
      ]
    },
    {
      "cell_type": "code",
      "source": [
        "#Q9\n",
        "print(df.nlargest(5, \"fare\"))\n"
      ],
      "metadata": {
        "colab": {
          "base_uri": "https://localhost:8080/"
        },
        "id": "Tj2RcfhuLG96",
        "outputId": "8fd28b09-0fd8-4496-b3e3-feb17bffcccd"
      },
      "execution_count": 52,
      "outputs": [
        {
          "output_type": "stream",
          "name": "stdout",
          "text": [
            "     survived  pclass     sex   age  sibsp  parch      fare embarked  class  \\\n",
            "258         1       1  female  35.0      0      0  512.3292        C  First   \n",
            "679         1       1    male  36.0      0      1  512.3292        C  First   \n",
            "737         1       1    male  35.0      0      0  512.3292        C  First   \n",
            "27          0       1    male  19.0      3      2  263.0000        S  First   \n",
            "88          1       1  female  23.0      3      2  263.0000        S  First   \n",
            "\n",
            "       who  adult_male deck  embark_town alive  alone age_group  \n",
            "258  woman       False  NaN    Cherbourg   yes   True     Adult  \n",
            "679    man        True    B    Cherbourg   yes  False     Adult  \n",
            "737    man        True    B    Cherbourg   yes   True     Adult  \n",
            "27     man        True    C  Southampton    no  False     Adult  \n",
            "88   woman       False    C  Southampton   yes  False     Adult  \n"
          ]
        }
      ]
    },
    {
      "cell_type": "code",
      "source": [
        "#Q10\n",
        "avg_fare = df.groupby([\"pclass\", \"sex\"])[\"fare\"].mean()\n",
        "print(avg_fare)\n"
      ],
      "metadata": {
        "colab": {
          "base_uri": "https://localhost:8080/"
        },
        "id": "NRoYysFaN-CF",
        "outputId": "9b87ca84-e857-4382-937d-60808a34b889"
      },
      "execution_count": 53,
      "outputs": [
        {
          "output_type": "stream",
          "name": "stdout",
          "text": [
            "pclass  sex   \n",
            "1       female    106.125798\n",
            "        male       67.226127\n",
            "2       female     21.970121\n",
            "        male       19.741782\n",
            "3       female     16.118810\n",
            "        male       12.661633\n",
            "Name: fare, dtype: float64\n"
          ]
        }
      ]
    },
    {
      "cell_type": "code",
      "source": [
        "#Q11\n",
        "df.rename(columns={\"sex\": \"gender\", \"fare\": \"ticket_fare\"}, inplace=True)\n"
      ],
      "metadata": {
        "id": "2b-IaHmFN97U"
      },
      "execution_count": 54,
      "outputs": []
    },
    {
      "cell_type": "code",
      "source": [
        "#Q12\n",
        "survival = df.groupby(\"pclass\")[\"survived\"].value_counts()\n",
        "print(survival)\n"
      ],
      "metadata": {
        "colab": {
          "base_uri": "https://localhost:8080/"
        },
        "id": "yUd2OXS4OCQs",
        "outputId": "b725272c-2c55-4735-e2d6-2cbbe72bdccb"
      },
      "execution_count": 57,
      "outputs": [
        {
          "output_type": "stream",
          "name": "stdout",
          "text": [
            "pclass  survived\n",
            "1       1           136\n",
            "        0            80\n",
            "2       0            97\n",
            "        1            87\n",
            "3       0           372\n",
            "        1           119\n",
            "Name: count, dtype: int64\n"
          ]
        }
      ]
    },
    {
      "cell_type": "code",
      "source": [
        "#Q13\n",
        "avg_age_grouped = df.groupby([\"pclass\", \"gender\"])[\"age\"].mean()\n",
        "print(avg_age_grouped)\n"
      ],
      "metadata": {
        "colab": {
          "base_uri": "https://localhost:8080/"
        },
        "id": "F8XhR8YyOCNS",
        "outputId": "6ca405fb-6ee1-4f27-d95d-e8d1feacc494"
      },
      "execution_count": 56,
      "outputs": [
        {
          "output_type": "stream",
          "name": "stdout",
          "text": [
            "pclass  gender\n",
            "1       female    33.978723\n",
            "        male      38.995246\n",
            "2       female    28.703947\n",
            "        male      30.512315\n",
            "3       female    23.572917\n",
            "        male      26.911873\n",
            "Name: age, dtype: float64\n"
          ]
        }
      ]
    }
  ]
}