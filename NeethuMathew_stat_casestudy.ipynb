{
  "nbformat": 4,
  "nbformat_minor": 0,
  "metadata": {
    "colab": {
      "provenance": [],
      "authorship_tag": "ABX9TyPCOHLhVuexmH3y2tZCCqJz",
      "include_colab_link": true
    },
    "kernelspec": {
      "name": "python3",
      "display_name": "Python 3"
    },
    "language_info": {
      "name": "python"
    }
  },
  "cells": [
    {
      "cell_type": "markdown",
      "metadata": {
        "id": "view-in-github",
        "colab_type": "text"
      },
      "source": [
        "<a href=\"https://colab.research.google.com/github/neethu2602/DSA_Class_Activities-/blob/main/NeethuMathew_stat_casestudy.ipynb\" target=\"_parent\"><img src=\"https://colab.research.google.com/assets/colab-badge.svg\" alt=\"Open In Colab\"/></a>"
      ]
    },
    {
      "cell_type": "code",
      "execution_count": 8,
      "metadata": {
        "colab": {
          "base_uri": "https://localhost:8080/"
        },
        "id": "Fg9VXtNigrAc",
        "outputId": "36c18691-1318-43b6-946d-4a57b13b6b0a"
      },
      "outputs": [
        {
          "output_type": "stream",
          "name": "stdout",
          "text": [
            "mean of data:  15.916666666666666\n",
            "median of data:  15.5\n",
            "mode:  15\n",
            "Range of temperature:  12\n",
            "variance:  11.076388888888888\n"
          ]
        }
      ],
      "source": [
        "#1\n",
        "Monthly_temperature =[12, 15, 14, 16, 18, 20, 22, 19,17, 15, 13, 10 ]\n",
        "#mean\n",
        "mean=sum(Monthly_temperature) / len(Monthly_temperature)\n",
        "print(f\"mean of data: \",mean)\n",
        "\n",
        "#median\n",
        "new_list=sorted(Monthly_temperature)\n",
        "mid_value = len(new_list)// 2\n",
        "if len(new_list) % 2 == 0:\n",
        "    median_value = (new_list[mid_value - 1] + new_list[mid_value]) / 2\n",
        "else:\n",
        "    median_value = new_list[mid_value]\n",
        "print(\"median of data: \",median_value)\n",
        "\n",
        "#mode\n",
        "repeatlist = {}\n",
        "for data in Monthly_temperature:\n",
        "  if data in repeatlist:\n",
        "        repeatlist[data] += 1\n",
        "  else:\n",
        "        repeatlist[data] = 1\n",
        "max_freq=0\n",
        "for k in repeatlist.values():\n",
        "  if k >max_freq:\n",
        "    max_freq=k\n",
        "\n",
        "for num in repeatlist:\n",
        "    if repeatlist[num] == max_freq:\n",
        "        print(\"mode: \",num)\n",
        "\n",
        "#Range\n",
        "Range=max(Monthly_temperature)-min(Monthly_temperature)\n",
        "print(\"Range of temperature: \",Range)\n",
        "\n",
        "#Variance\n",
        "variance=sum((x-mean)**2 for x in Monthly_temperature)/len(Monthly_temperature)\n",
        "print(\"variance: \", variance)\n"
      ]
    },
    {
      "cell_type": "code",
      "source": [
        "#2\n",
        "Height=[150, 160, 165, 170, 155, 160, 162, 168]\n",
        "#Range\n",
        "range=max(Height)-min(Height)\n",
        "print(\"Range of temperature: \",range)\n",
        "\n",
        "#variance\n",
        "mean_height=sum(Height) / len(Height)\n",
        "variance_Height=sum((x-mean_height)**2 for x in Height)/len(Height)\n",
        "print(\"variance: \", variance_Height)\n",
        "\n",
        "#Standard deviation\n",
        "std_dev = variance_Height ** 0.5\n",
        "print(\"Standard deviation of height: \",std_dev)"
      ],
      "metadata": {
        "colab": {
          "base_uri": "https://localhost:8080/"
        },
        "id": "pIbpKWuKn-RA",
        "outputId": "fb1d7329-9ed8-4211-d204-062754e8131a"
      },
      "execution_count": 12,
      "outputs": [
        {
          "output_type": "stream",
          "name": "stdout",
          "text": [
            "Range of temperature:  20\n",
            "variance:  38.1875\n",
            "Standard deviation of height:  6.179603547154137\n"
          ]
        }
      ]
    },
    {
      "cell_type": "code",
      "source": [
        "#3\n",
        "Weekly_expenses=[200, 250, 300, 220, 270, 290, 310]\n",
        "mean_expense=sum(Weekly_expenses) / len(Weekly_expenses)\n",
        "variance_expense=sum((x-mean_expense)**2 for x in Weekly_expenses)/len(Weekly_expenses)\n",
        "std_dev_expenses = variance_expense ** 0.5\n",
        "print(\"Standard deviation of weekly expense: \",std_dev_expenses)"
      ],
      "metadata": {
        "colab": {
          "base_uri": "https://localhost:8080/"
        },
        "id": "uIbpS-S5rTcr",
        "outputId": "2f34d9dd-3a7f-4e80-bab3-be738a6a9122"
      },
      "execution_count": 13,
      "outputs": [
        {
          "output_type": "stream",
          "name": "stdout",
          "text": [
            "Standard deviation of weekly expense:  38.438925848782034\n"
          ]
        }
      ]
    },
    {
      "cell_type": "code",
      "source": [
        "#4\n",
        "import statistics as stats\n",
        "\n",
        "Advertising_Spending = [10, 20, 15, 25, 30]\n",
        "Sales = [100, 150, 120, 180, 200]\n",
        "\n",
        "# Covariance\n",
        "covariance = stats.covariance(Advertising_Spending, Sales)\n",
        "\n",
        "# Correlation\n",
        "correlation = stats.correlation(Advertising_Spending, Sales)\n",
        "\n",
        "print(\"Covariance:\", covariance)\n",
        "print(\"Correlation:\", correlation)\n"
      ],
      "metadata": {
        "colab": {
          "base_uri": "https://localhost:8080/"
        },
        "id": "IAH4cTxwsgAn",
        "outputId": "1d1cbaf9-0844-47d9-b6f3-07d2971472b2"
      },
      "execution_count": 14,
      "outputs": [
        {
          "output_type": "stream",
          "name": "stdout",
          "text": [
            "Covariance: 325.0\n",
            "Correlation: 0.9970544855015816\n"
          ]
        }
      ]
    },
    {
      "cell_type": "code",
      "source": [
        "#5\n",
        "import numpy as np\n",
        "Study_Hours=[2, 4, 6, 8, 10]\n",
        "Exam_Scores=[55, 60, 65, 70, 75]\n",
        "correlation_study = stats.correlation(Study_Hours, Exam_Scores)\n",
        "\n",
        "# Linear positive relationship -- if study hour increases exam score increases\n",
        "\n",
        "print(\"correlation coefficient: \",correlation_study)\n",
        "# IQR OF STUDY HOURS\n",
        "Q1_hours = np.percentile(Study_Hours, 25)\n",
        "Q2_hours = np.percentile(Study_Hours, 50)\n",
        "Q3_hours = np.percentile(Study_Hours, 75)\n",
        "IQR_hours = Q3_hours - Q1_hours\n",
        "\n",
        "# IQR OF EXAM SCORES\n",
        "Q1_scores = np.percentile(Exam_Scores, 25)\n",
        "Q2_scores = np.percentile(Exam_Scores, 50)\n",
        "Q3_scores = np.percentile(Exam_Scores, 75)\n",
        "IQR_scores = Q3_scores - Q1_scores\n",
        "\n",
        "print(\"IQR of study hours: \",IQR_hours)\n",
        "print(\"IQR of exam scores: \",IQR_scores)"
      ],
      "metadata": {
        "colab": {
          "base_uri": "https://localhost:8080/"
        },
        "id": "wHtWludIwGUj",
        "outputId": "7dc22b83-db22-494f-ca78-0a251879b1e5"
      },
      "execution_count": 16,
      "outputs": [
        {
          "output_type": "stream",
          "name": "stdout",
          "text": [
            "correlation coefficient:  1.0\n",
            "IQR of study hours:  4.0\n",
            "IQR of exam scores:  10.0\n"
          ]
        }
      ]
    },
    {
      "cell_type": "code",
      "source": [
        "#6\n",
        "Monthly_savings=[200, 300, 400, 500, 600, 700, 800, 900, 1000,1100]\n",
        "Q1_savings = np.percentile(Monthly_savings, 25)\n",
        "Q3_savings = np.percentile(Monthly_savings, 75)\n",
        "IQR_savings = Q3_savings - Q1_savings\n",
        "\n",
        "lower_limit = Q1_savings - 1.5 * IQR_savings\n",
        "upper_limit = Q3_savings + 1.5 * IQR_savings\n",
        "\n",
        "outliers = [x for x in Monthly_savings if x < lower_limit or x > upper_limit]\n",
        "\n",
        "print(\"Q1:\", Q1_savings, \"Q3:\", Q3_savings, \"IQR:\", IQR_savings)\n",
        "print(\"Outliers:\", outliers)"
      ],
      "metadata": {
        "colab": {
          "base_uri": "https://localhost:8080/"
        },
        "id": "MCygL8Y41faF",
        "outputId": "671eb631-9383-419e-8ae3-6bc93b000250"
      },
      "execution_count": 22,
      "outputs": [
        {
          "output_type": "stream",
          "name": "stdout",
          "text": [
            "Q1: 425.0 Q3: 875.0 IQR: 450.0\n",
            "Outliers: []\n"
          ]
        }
      ]
    },
    {
      "cell_type": "code",
      "source": [
        "#7\n",
        "Ages_of_employees=[22, 25, 28, 30, 35, 40, 45, 50, 55, 100]\n",
        "Q1_age = np.percentile(Ages_of_employees, 25)\n",
        "Q3_age = np.percentile(Ages_of_employees, 75)\n",
        "IQR_age = Q3_age - Q1_age\n",
        "\n",
        "lower_age = Q1_age - 1.5 * IQR_age\n",
        "upper_age = Q3_age + 1.5 * IQR_age\n",
        "\n",
        "outliers_age = [x for x in Ages_of_employees if x < lower_age or x > upper_age]\n",
        "print(\"Outliers of ages of employees: \",outliers_age)\n"
      ],
      "metadata": {
        "colab": {
          "base_uri": "https://localhost:8080/"
        },
        "id": "o1Qc3KX03641",
        "outputId": "92e8ccc6-28e5-4556-d5c1-a2467d313c30"
      },
      "execution_count": 25,
      "outputs": [
        {
          "output_type": "stream",
          "name": "stdout",
          "text": [
            "Outliers of ages of employees:  [100]\n"
          ]
        }
      ]
    },
    {
      "cell_type": "code",
      "source": [
        "#8\n",
        "import math\n",
        "observed = [[50, 55, 60],[30, 25, 35],[20, 20, 25]]\n",
        "\n",
        "row_totals = [sum(row) for row in observed]\n",
        "col_totals = [sum(observed[r][c] for r in range(3)) for c in range(3)]\n",
        "grand_total = sum(row_totals)\n",
        "\n",
        "expected = [[(row_totals[r] * col_totals[c]) / grand_total for c in range(3)] for r in range(3)]\n",
        "\n",
        "chi_square = 0\n",
        "for r in range(3):\n",
        "    for c in range(3):\n",
        "        chi_square += (observed[r][c] - expected[r][c])**2 / expected[r][c]\n",
        "\n",
        "df = (len(row_totals) - 1) * (len(col_totals) - 1)\n",
        "\n",
        "print(\"Chi-Square Statistic:\", chi_square)\n",
        "print(\"Degrees of Freedom:\", df)"
      ],
      "metadata": {
        "colab": {
          "base_uri": "https://localhost:8080/"
        },
        "id": "V1idBvTFJUon",
        "outputId": "d5a8eb2d-3c86-4551-9947-8def67a658ca"
      },
      "execution_count": 1,
      "outputs": [
        {
          "output_type": "stream",
          "name": "stdout",
          "text": [
            "Chi-Square Statistic: 0.8774928774928774\n",
            "Degrees of Freedom: 4\n"
          ]
        }
      ]
    },
    {
      "cell_type": "code",
      "source": [
        "#9\n",
        "import numpy as np\n",
        "from scipy import stats\n",
        "diet_program=[70, 68, 72, 71, 69, 73,72, 74, 70, 71]\n",
        "mean_testweight=70\n",
        "\n",
        "mean_weight = np.mean(diet_program)\n",
        "std_dev_weight = np.std(diet_program, ddof=1)\n",
        "\n",
        "t_stat = (mean_weight - mean_testweight) / (std_dev_weight / np.sqrt(len(diet_program)))\n",
        "df = len(diet_program) - 1\n",
        "\n",
        "alpha = 0.05\n",
        "t_critical = stats.t.ppf(1 - alpha/2, df)\n",
        "print(\"Critical Value (±):\", t_critical)\n",
        "\n",
        "\n",
        "if abs(t_stat) > t_critical:\n",
        "    print(\"Reject H0: Mean is significantly different from 70\")\n",
        "else:\n",
        "    print(\"Fail to Reject H0: No significant difference from 70\")\n",
        "def zscore(list7):\n",
        "  mean_zscore=sum(list7) / len(list7)\n",
        "\n",
        "  squared=[]\n",
        "  for num in list7:\n",
        "    squared.append((num - mean_zscore) ** 2)\n",
        "  variance_zscore=sum(squared)/len(list7)\n",
        "  std_dev_zscore = variance_zscore ** 0.5\n",
        "\n",
        "  zscore_values=[]\n",
        "  for num in list7:\n",
        "    score=(num-mean_zscore)/std_dev_zscore\n",
        "    zscore_values.append(score)\n",
        "  return zscore_values\n",
        "print(zscore(diet_program))"
      ],
      "metadata": {
        "colab": {
          "base_uri": "https://localhost:8080/"
        },
        "id": "elCDAIy-Lssa",
        "outputId": "3081e903-6715-45d4-ea78-8e74ba1e79e5"
      },
      "execution_count": 7,
      "outputs": [
        {
          "output_type": "stream",
          "name": "stdout",
          "text": [
            "Critical Value (±): 2.2621571628540993\n",
            "Fail to Reject H0: No significant difference from 70\n",
            "[-0.5773502691896258, -1.7320508075688774, 0.5773502691896258, 0.0, -1.1547005383792517, 1.1547005383792517, 0.5773502691896258, 1.7320508075688774, -0.5773502691896258, 0.0]\n"
          ]
        }
      ]
    },
    {
      "cell_type": "code",
      "source": [
        "#10\n",
        "import statistics as stats\n",
        "salaries = [40, 42, 45, 47, 50, 52, 55, 57, 60, 62]\n",
        "\n",
        "def zscore(list6):\n",
        "  mean_zscore=sum(list6) / len(list6)\n",
        "\n",
        "  squared=[]\n",
        "  for num in list6:\n",
        "    squared.append((num - mean_zscore) ** 2)\n",
        "  variance_zscore=sum(squared)/len(list6)\n",
        "  std_dev_zscore = variance_zscore ** 0.5\n",
        "\n",
        "  zscore_values=[]\n",
        "  for num in list6:\n",
        "    score=(num-mean_zscore)/std_dev_zscore\n",
        "    zscore_values.append(score)\n",
        "  return zscore_values\n",
        "print(zscore(salaries))"
      ],
      "metadata": {
        "colab": {
          "base_uri": "https://localhost:8080/"
        },
        "id": "HXxJQ0bd6k-I",
        "outputId": "da369969-22e4-4ac0-91ad-80d0845234f9"
      },
      "execution_count": 27,
      "outputs": [
        {
          "output_type": "stream",
          "name": "stdout",
          "text": [
            "[-1.5403080924308108, -1.2602520756252087, -0.8401680504168059, -0.5601120336112039, -0.14002800840280097, 0.14002800840280097, 0.5601120336112039, 0.8401680504168059, 1.2602520756252087, 1.5403080924308108]\n"
          ]
        }
      ]
    },
    {
      "cell_type": "code",
      "source": [
        "#11\n",
        "import statistics as stats\n",
        "import math\n",
        "\n",
        "test_scores= [85, 87, 90, 92, 95, 97, 100, 102, 105, 107]\n",
        "\n",
        "mean_test = sum(test_scores) / len(test_scores)\n",
        "\n",
        "\n",
        "variance_test = sum((x - mean_test) ** 2 for x in test_scores) / len(test_scores)\n",
        "std_dev_test = math.sqrt(variance_test)\n",
        "\n",
        "print(\"Mean:\", mean_test)\n",
        "print(\"Std Dev:\", std_dev_test)\n",
        "\n",
        "def normal_cdf(x, mean, std):\n",
        "    z = (x - mean) / (std * math.sqrt(2))\n",
        "    return 0.5 * (1 + math.erf(z))\n",
        "x=105\n",
        "\n",
        "p_right = 1 - normal_cdf(x, mean, std_dev)\n",
        "p_two_tailed = 2 * min(normal_cdf(x, mean, std_dev), 1 - normal_cdf(x, mean, std_dev))\n",
        "\n",
        "print(\"One-tailed p-value :\", p_right)\n",
        "print(\"Two-tailed p-value:\", p_two_tailed)"
      ],
      "metadata": {
        "colab": {
          "base_uri": "https://localhost:8080/"
        },
        "id": "gePxS4VTEqfm",
        "outputId": "0d1ffc9a-acfd-4556-cd9f-7ebeef71f9d6"
      },
      "execution_count": 39,
      "outputs": [
        {
          "output_type": "stream",
          "name": "stdout",
          "text": [
            "Mean: 96.0\n",
            "Std Dev: 7.14142842854285\n",
            "One-tailed p-value : 0.0\n",
            "Two-tailed p-value: 0.0\n"
          ]
        }
      ]
    },
    {
      "cell_type": "code",
      "source": [
        "#12\n",
        "import numpy as np\n",
        "import math\n",
        "\n",
        "bp_reduction = [10, 12, 14, 15, 13, 16, 18, 17, 19, 20]\n",
        "n = len(bp_reduction)\n",
        "\n",
        "\n",
        "hypo = 0\n",
        "\n",
        "sample_mean = np.mean(bp_reduction)\n",
        "\n",
        "sample_var = sum((x - sample_mean)**2 for x in bp_reduction) / (n - 1)\n",
        "sample_std = math.sqrt(sample_var)\n",
        "\n",
        "std_err = sample_std / math.sqrt(n)\n",
        "\n",
        "\n",
        "t_stat = (sample_mean - hypo) / std_err\n",
        "\n",
        "df = n - 1\n",
        "\n",
        "p_value = 2 * (1 - 0.5 * (1 + math.erf(abs(t_stat) / math.sqrt(2))))\n",
        "t_critical = 1.96\n",
        "margin_error = t_critical * std_err\n",
        "ci_lower = sample_mean - margin_error\n",
        "ci_upper = sample_mean + margin_error\n",
        "\n",
        "\n",
        "print(\"Sample Mean:\", sample_mean)\n",
        "print(\"Sample Std Dev:\", sample_std)\n",
        "print(\"t-Statistic:\", t_stat)\n",
        "print(\"p-Value (approx):\", p_value)\n",
        "print(\"95% Confidence Interval (approx):\", (ci_lower, ci_upper))\n",
        "\n",
        "\n"
      ],
      "metadata": {
        "colab": {
          "base_uri": "https://localhost:8080/"
        },
        "id": "DYrb80-3PeSz",
        "outputId": "fa0ba5d1-adff-4592-a6aa-6bca79de5e67"
      },
      "execution_count": 9,
      "outputs": [
        {
          "output_type": "stream",
          "name": "stdout",
          "text": [
            "Sample Mean: 15.4\n",
            "Sample Std Dev: 3.204163957519444\n",
            "t-Statistic: 15.198684153570667\n",
            "p-Value (approx): 0.0\n",
            "95% Confidence Interval (approx): (np.float64(13.414038603933435), np.float64(17.385961396066566))\n"
          ]
        }
      ]
    },
    {
      "cell_type": "code",
      "source": [
        "#13\n",
        "import math\n",
        "\n",
        "monthly_income = [3.5, 4.0, 4.2, 4.5, 4.7, 5.0, 5.3, 5.5, 5.7, 6.0]\n",
        "n_income = len(monthly_income)\n",
        "\n",
        "mean = sum(monthly_income) / n_income\n",
        "\n",
        "variance = sum((x - mean) ** 2 for x in monthly_income) / (n_income - 1)\n",
        "std_dev = math.sqrt(variance)\n",
        "\n",
        "se = std_dev / math.sqrt(n_income)\n",
        "\n",
        "t_critical = 2.262\n",
        "margin_error = t_critical * se\n",
        "\n",
        "ci_lower = mean - margin_error\n",
        "ci_upper = mean + margin_error\n",
        "\n",
        "print(\"Mean:\", round(mean, 2))\n",
        "print(\"Standard Deviation:\", round(std_dev, 3))\n",
        "print(\"95% Confidence Interval: (\", round(ci_lower, 2), \",\", round(ci_upper, 2), \")\")\n"
      ],
      "metadata": {
        "colab": {
          "base_uri": "https://localhost:8080/"
        },
        "id": "dVX7hG6JRHOv",
        "outputId": "982c649e-329b-495e-8334-c07fa19ea0a5"
      },
      "execution_count": 10,
      "outputs": [
        {
          "output_type": "stream",
          "name": "stdout",
          "text": [
            "Mean: 4.84\n",
            "Standard Deviation: 0.803\n",
            "95% Confidence Interval: ( 4.27 , 5.41 )\n"
          ]
        }
      ]
    },
    {
      "cell_type": "code",
      "source": [
        "#14\n",
        "Daily_temperatures= [25, 26, 27, 28, 29, 30,31, 32, 33, 34, 35, 36, 37, 38]\n",
        "Q1_temp = np.percentile(Daily_temperatures, 25)\n",
        "Q3_temp = np.percentile(Daily_temperatures, 75)\n",
        "IQR_temp = Q3_temp - Q1_temp\n",
        "\n",
        "lower_temp = Q1_temp - 1.5 * IQR_temp\n",
        "upper_temp = Q3_temp + 1.5 * IQR_temp\n",
        "\n",
        "outliers_temp = [x for x in Daily_temperatures if x < lower_temp or x > upper_temp]\n",
        "print(\"Outliers:\", outliers_temp)"
      ],
      "metadata": {
        "colab": {
          "base_uri": "https://localhost:8080/"
        },
        "id": "n8Oylrz5_5ck",
        "outputId": "1dd05b9a-dbda-4f12-fa10-564c0e7fba44"
      },
      "execution_count": 29,
      "outputs": [
        {
          "output_type": "stream",
          "name": "stdout",
          "text": [
            "Outliers: []\n"
          ]
        }
      ]
    },
    {
      "cell_type": "code",
      "source": [],
      "metadata": {
        "id": "BGKTdlpWInI1"
      },
      "execution_count": null,
      "outputs": []
    }
  ]
}