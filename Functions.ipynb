{
  "nbformat": 4,
  "nbformat_minor": 0,
  "metadata": {
    "colab": {
      "provenance": [],
      "authorship_tag": "ABX9TyPRhVKRNDpSALyBOlBnJHRN",
      "include_colab_link": true
    },
    "kernelspec": {
      "name": "python3",
      "display_name": "Python 3"
    },
    "language_info": {
      "name": "python"
    }
  },
  "cells": [
    {
      "cell_type": "markdown",
      "metadata": {
        "id": "view-in-github",
        "colab_type": "text"
      },
      "source": [
        "<a href=\"https://colab.research.google.com/github/neethu2602/DSA_Class_Activities-/blob/main/Functions.ipynb\" target=\"_parent\"><img src=\"https://colab.research.google.com/assets/colab-badge.svg\" alt=\"Open In Colab\"/></a>"
      ]
    },
    {
      "cell_type": "code",
      "execution_count": null,
      "metadata": {
        "id": "gqSwxG_QrX8c"
      },
      "outputs": [],
      "source": [
        "def functionname():\n",
        "  function body             #Structure of function"
      ]
    },
    {
      "cell_type": "code",
      "source": [
        "def greet():\n",
        "  print(\"Hello welcome to kerala\")\n",
        "greet()"
      ],
      "metadata": {
        "colab": {
          "base_uri": "https://localhost:8080/"
        },
        "id": "Rz5M_U5Es-Sm",
        "outputId": "040f63f0-af55-4ddc-e1ec-e6fbb7a9b852"
      },
      "execution_count": null,
      "outputs": [
        {
          "output_type": "stream",
          "name": "stdout",
          "text": [
            "Hello welcome to kerala\n"
          ]
        }
      ]
    },
    {
      "cell_type": "code",
      "source": [
        "def greet():\n",
        "  pass                 # Error avoided.... function body can be added later\n",
        "greet()"
      ],
      "metadata": {
        "id": "keeF5XDQs-PF"
      },
      "execution_count": null,
      "outputs": []
    },
    {
      "cell_type": "code",
      "source": [
        "def greet(name,time='11AM'):\n",
        "  print(f\"Hello {name}, Welcome to the program..... Your session will start at {time}\")\n",
        "\n",
        "\n",
        "\n",
        "\n",
        "greet(\"Neethu\")\n",
        "greet(\"Tissy\",'2PM')\n",
        "greet(\"Anna\")\n",
        "greet(\"Lakshmi\",'4PM')                               #Positional argument maintain the position"
      ],
      "metadata": {
        "colab": {
          "base_uri": "https://localhost:8080/"
        },
        "id": "2urs3A08s-Mb",
        "outputId": "477c4a71-9913-454c-92e1-8d5af6c40e7c"
      },
      "execution_count": null,
      "outputs": [
        {
          "output_type": "stream",
          "name": "stdout",
          "text": [
            "Hello Neethu, Welcome to the program..... Your session will start at 11AM\n",
            "Hello Tissy, Welcome to the program..... Your session will start at 2PM\n",
            "Hello Anna, Welcome to the program..... Your session will start at 11AM\n",
            "Hello Lakshmi, Welcome to the program..... Your session will start at 4PM\n"
          ]
        }
      ]
    },
    {
      "cell_type": "code",
      "source": [
        "a= int(input(\"enter 1st number: \"))\n",
        "b= int(input(\"enter the 2nd number: \"))\n",
        "def mul(a,b):\n",
        "  print(\"product is: \",a*b)\n",
        "mul(a,b)"
      ],
      "metadata": {
        "colab": {
          "base_uri": "https://localhost:8080/"
        },
        "id": "qlnPfdl9s-Jy",
        "outputId": "0531d5b9-15d7-4d79-ab9c-656b4a58b5a7"
      },
      "execution_count": null,
      "outputs": [
        {
          "output_type": "stream",
          "name": "stdout",
          "text": [
            "enter 1st number: 5\n",
            "enter the 2nd number: 5\n",
            "product is:  25\n"
          ]
        }
      ]
    },
    {
      "cell_type": "code",
      "source": [
        "def bill_amount (a):\n",
        "  percentage=(a/100)*10\n",
        "  billamount=percentage+a\n",
        "  print('Total bill amount: ',billamount)\n",
        "bill_amount(500)\n",
        "bill_amount(100)"
      ],
      "metadata": {
        "colab": {
          "base_uri": "https://localhost:8080/"
        },
        "id": "P87YFEl_s-HM",
        "outputId": "4ce9d290-53a7-4e03-f9f6-f069d8a5f44f"
      },
      "execution_count": null,
      "outputs": [
        {
          "output_type": "stream",
          "name": "stdout",
          "text": [
            "Total bill amount:  550.0\n",
            "Total bill amount:  110.0\n"
          ]
        }
      ]
    },
    {
      "cell_type": "code",
      "source": [
        "def bill_amount (a):\n",
        "  if a<=500:\n",
        "    percentage=(a/100)*10\n",
        "    billamount=percentage+a\n",
        "  elif 500<a<=800:\n",
        "    percentage=(a/100)*15\n",
        "    billamount=percentage+a\n",
        "  elif 800<a<=1000:\n",
        "    percentage=(a/100)*20\n",
        "    billamount=percentage+a\n",
        "  else:\n",
        "    percentage=(a/100)*30\n",
        "    billamount=percentage+a\n",
        "  print('Total bill amount: ',billamount)\n",
        "bill_amount(600)\n",
        "bill_amount(1100)"
      ],
      "metadata": {
        "colab": {
          "base_uri": "https://localhost:8080/"
        },
        "id": "1UBt5pnvs-EA",
        "outputId": "252fac0f-a6c6-4066-fcd2-79034f5d0ead"
      },
      "execution_count": null,
      "outputs": [
        {
          "output_type": "stream",
          "name": "stdout",
          "text": [
            "Total bill amount:  690.0\n",
            "Total bill amount:  1430.0\n"
          ]
        }
      ]
    },
    {
      "cell_type": "code",
      "source": [
        "numlist=[1,3,5,6,8,10,12,25]\n",
        "def averagelist(numberlist):\n",
        "  even=[]\n",
        "  odd=[]\n",
        "  for num in numberlist:\n",
        "    if num%2==0:\n",
        "      even.append(num)\n",
        "      averageeven=sum(even)/len(even)\n",
        "    else:\n",
        "      odd.append(num)\n",
        "      averageodd=sum(odd)/len(odd)\n",
        "\n",
        "  print(f\"average of  even list{even} is {averageeven}\")\n",
        "  print(f'average of  odd list {odd} is {averageodd} ')\n",
        "averagelist(numlist)"
      ],
      "metadata": {
        "colab": {
          "base_uri": "https://localhost:8080/"
        },
        "id": "WU3KG0tzs-Be",
        "outputId": "d3a70e12-ea58-41f5-b1f0-af5a45cc0c72"
      },
      "execution_count": null,
      "outputs": [
        {
          "output_type": "stream",
          "name": "stdout",
          "text": [
            "average of  even list[6, 8, 10, 12] is 9.0\n",
            "average of  odd list [1, 3, 5, 25] is 8.5 \n"
          ]
        }
      ]
    },
    {
      "cell_type": "code",
      "source": [
        "#def sum(*new):\n",
        " # total=0\n",
        "  #for i in new:\n",
        "   # total+=i\n",
        "#  print(total)\n",
        "#sum(4,8,9,10)"
      ],
      "metadata": {
        "colab": {
          "base_uri": "https://localhost:8080/"
        },
        "id": "6tJMa3Ck7NVy",
        "outputId": "e293b7d6-a6d6-4eba-a2f4-81513979f83f"
      },
      "execution_count": null,
      "outputs": [
        {
          "output_type": "stream",
          "name": "stdout",
          "text": [
            "31\n"
          ]
        }
      ]
    },
    {
      "cell_type": "code",
      "source": [
        "def price(**total):\n",
        "  sum=0\n",
        "  for i in total.values():\n",
        "    sum+=i\n",
        "  print(sum)\n",
        "\n",
        "price(apple=18,orange=20,grapes=30)\n",
        "\n"
      ],
      "metadata": {
        "colab": {
          "base_uri": "https://localhost:8080/"
        },
        "id": "CO8mleyU7NSc",
        "outputId": "b529d992-b19c-49c3-e65e-9fde7a5a7529"
      },
      "execution_count": null,
      "outputs": [
        {
          "output_type": "stream",
          "name": "stdout",
          "text": [
            "68\n"
          ]
        }
      ]
    },
    {
      "cell_type": "code",
      "source": [
        "def print_info(**arg):\n",
        "  for item,val in arg.items():\n",
        "    print(f\"{item} is {val}\")\n",
        "\n",
        "print_info(name='Geethu',place='tvm',Batch='DSA')\n",
        "print_info(gate1='open',gate2='closed')"
      ],
      "metadata": {
        "colab": {
          "base_uri": "https://localhost:8080/"
        },
        "id": "x5psaJib7NQA",
        "outputId": "3bdbf745-5b5d-4ebb-bbf7-fd35c428eb18"
      },
      "execution_count": null,
      "outputs": [
        {
          "output_type": "stream",
          "name": "stdout",
          "text": [
            "name is Geethu\n",
            "place is tvm\n",
            "Batch is DSA\n",
            "gate1 is open\n",
            "gate2 is closed\n"
          ]
        }
      ]
    },
    {
      "cell_type": "code",
      "source": [
        "square=lambda x: x*x\n",
        "square(24)"
      ],
      "metadata": {
        "colab": {
          "base_uri": "https://localhost:8080/"
        },
        "id": "1E2BWcs97NNk",
        "outputId": "3ce431f7-eda8-412b-cae4-5b28efdcc1a7"
      },
      "execution_count": null,
      "outputs": [
        {
          "output_type": "execute_result",
          "data": {
            "text/plain": [
              "576"
            ]
          },
          "metadata": {},
          "execution_count": 39
        }
      ]
    },
    {
      "cell_type": "code",
      "source": [
        "add =lambda a,b:a+b\n",
        "add(5,12)"
      ],
      "metadata": {
        "colab": {
          "base_uri": "https://localhost:8080/"
        },
        "id": "k9vyqSMI7NKf",
        "outputId": "c4194001-3d8f-48aa-fb57-fac55e820aac"
      },
      "execution_count": null,
      "outputs": [
        {
          "output_type": "execute_result",
          "data": {
            "text/plain": [
              "17"
            ]
          },
          "metadata": {},
          "execution_count": 40
        }
      ]
    },
    {
      "cell_type": "code",
      "source": [
        "def to(marking):\n",
        "  return(sum(marking))\n",
        "\n",
        "final_score=to([10,20,30,40])\n",
        "if final_score>=90:\n",
        "  print(\"grade a\")\n",
        "elif final_score>=80:\n",
        "  print(\"grade b\")\n",
        "elif final_score>=70:\n",
        "  print(\"grade c\")\n",
        "elif final_score>=60:\n",
        "  print(\"grade d\")\n"
      ],
      "metadata": {
        "colab": {
          "base_uri": "https://localhost:8080/",
          "height": 356
        },
        "id": "hvsqUbb67NH4",
        "outputId": "8fe09f25-92f3-45b1-b2b9-57f38366441a"
      },
      "execution_count": null,
      "outputs": [
        {
          "output_type": "error",
          "ename": "TypeError",
          "evalue": "unsupported operand type(s) for +=: 'int' and 'list'",
          "traceback": [
            "\u001b[0;31m---------------------------------------------------------------------------\u001b[0m",
            "\u001b[0;31mTypeError\u001b[0m                                 Traceback (most recent call last)",
            "\u001b[0;32m/tmp/ipython-input-3128232351.py\u001b[0m in \u001b[0;36m<cell line: 0>\u001b[0;34m()\u001b[0m\n\u001b[1;32m      2\u001b[0m   \u001b[0;32mreturn\u001b[0m\u001b[0;34m(\u001b[0m\u001b[0msum\u001b[0m\u001b[0;34m(\u001b[0m\u001b[0mmarking\u001b[0m\u001b[0;34m)\u001b[0m\u001b[0;34m)\u001b[0m\u001b[0;34m\u001b[0m\u001b[0;34m\u001b[0m\u001b[0m\n\u001b[1;32m      3\u001b[0m \u001b[0;34m\u001b[0m\u001b[0m\n\u001b[0;32m----> 4\u001b[0;31m \u001b[0mfinal_score\u001b[0m\u001b[0;34m=\u001b[0m\u001b[0mto\u001b[0m\u001b[0;34m(\u001b[0m\u001b[0;34m[\u001b[0m\u001b[0;36m10\u001b[0m\u001b[0;34m,\u001b[0m\u001b[0;36m20\u001b[0m\u001b[0;34m,\u001b[0m\u001b[0;36m30\u001b[0m\u001b[0;34m,\u001b[0m\u001b[0;36m40\u001b[0m\u001b[0;34m]\u001b[0m\u001b[0;34m)\u001b[0m\u001b[0;34m\u001b[0m\u001b[0;34m\u001b[0m\u001b[0m\n\u001b[0m\u001b[1;32m      5\u001b[0m \u001b[0;32mif\u001b[0m \u001b[0mfinal_score\u001b[0m\u001b[0;34m>=\u001b[0m\u001b[0;36m90\u001b[0m\u001b[0;34m:\u001b[0m\u001b[0;34m\u001b[0m\u001b[0;34m\u001b[0m\u001b[0m\n\u001b[1;32m      6\u001b[0m   \u001b[0mprint\u001b[0m\u001b[0;34m(\u001b[0m\u001b[0;34m\"grade a\"\u001b[0m\u001b[0;34m)\u001b[0m\u001b[0;34m\u001b[0m\u001b[0;34m\u001b[0m\u001b[0m\n",
            "\u001b[0;32m/tmp/ipython-input-3128232351.py\u001b[0m in \u001b[0;36mto\u001b[0;34m(marking)\u001b[0m\n\u001b[1;32m      1\u001b[0m \u001b[0;32mdef\u001b[0m \u001b[0mto\u001b[0m\u001b[0;34m(\u001b[0m\u001b[0mmarking\u001b[0m\u001b[0;34m)\u001b[0m\u001b[0;34m:\u001b[0m\u001b[0;34m\u001b[0m\u001b[0;34m\u001b[0m\u001b[0m\n\u001b[0;32m----> 2\u001b[0;31m   \u001b[0;32mreturn\u001b[0m\u001b[0;34m(\u001b[0m\u001b[0msum\u001b[0m\u001b[0;34m(\u001b[0m\u001b[0mmarking\u001b[0m\u001b[0;34m)\u001b[0m\u001b[0;34m)\u001b[0m\u001b[0;34m\u001b[0m\u001b[0;34m\u001b[0m\u001b[0m\n\u001b[0m\u001b[1;32m      3\u001b[0m \u001b[0;34m\u001b[0m\u001b[0m\n\u001b[1;32m      4\u001b[0m \u001b[0mfinal_score\u001b[0m\u001b[0;34m=\u001b[0m\u001b[0mto\u001b[0m\u001b[0;34m(\u001b[0m\u001b[0;34m[\u001b[0m\u001b[0;36m10\u001b[0m\u001b[0;34m,\u001b[0m\u001b[0;36m20\u001b[0m\u001b[0;34m,\u001b[0m\u001b[0;36m30\u001b[0m\u001b[0;34m,\u001b[0m\u001b[0;36m40\u001b[0m\u001b[0;34m]\u001b[0m\u001b[0;34m)\u001b[0m\u001b[0;34m\u001b[0m\u001b[0;34m\u001b[0m\u001b[0m\n\u001b[1;32m      5\u001b[0m \u001b[0;32mif\u001b[0m \u001b[0mfinal_score\u001b[0m\u001b[0;34m>=\u001b[0m\u001b[0;36m90\u001b[0m\u001b[0;34m:\u001b[0m\u001b[0;34m\u001b[0m\u001b[0;34m\u001b[0m\u001b[0m\n",
            "\u001b[0;32m/tmp/ipython-input-4083967678.py\u001b[0m in \u001b[0;36msum\u001b[0;34m(*new)\u001b[0m\n\u001b[1;32m      2\u001b[0m   \u001b[0mtotal\u001b[0m\u001b[0;34m=\u001b[0m\u001b[0;36m0\u001b[0m\u001b[0;34m\u001b[0m\u001b[0;34m\u001b[0m\u001b[0m\n\u001b[1;32m      3\u001b[0m   \u001b[0;32mfor\u001b[0m \u001b[0mi\u001b[0m \u001b[0;32min\u001b[0m \u001b[0mnew\u001b[0m\u001b[0;34m:\u001b[0m\u001b[0;34m\u001b[0m\u001b[0;34m\u001b[0m\u001b[0m\n\u001b[0;32m----> 4\u001b[0;31m     \u001b[0mtotal\u001b[0m\u001b[0;34m+=\u001b[0m\u001b[0mi\u001b[0m\u001b[0;34m\u001b[0m\u001b[0;34m\u001b[0m\u001b[0m\n\u001b[0m\u001b[1;32m      5\u001b[0m   \u001b[0mprint\u001b[0m\u001b[0;34m(\u001b[0m\u001b[0mtotal\u001b[0m\u001b[0;34m)\u001b[0m\u001b[0;34m\u001b[0m\u001b[0;34m\u001b[0m\u001b[0m\n\u001b[1;32m      6\u001b[0m \u001b[0msum\u001b[0m\u001b[0;34m(\u001b[0m\u001b[0;36m4\u001b[0m\u001b[0;34m,\u001b[0m\u001b[0;36m8\u001b[0m\u001b[0;34m,\u001b[0m\u001b[0;36m9\u001b[0m\u001b[0;34m,\u001b[0m\u001b[0;36m10\u001b[0m\u001b[0;34m)\u001b[0m\u001b[0;34m\u001b[0m\u001b[0;34m\u001b[0m\u001b[0m\n",
            "\u001b[0;31mTypeError\u001b[0m: unsupported operand type(s) for +=: 'int' and 'list'"
          ]
        }
      ]
    },
    {
      "cell_type": "code",
      "source": [],
      "metadata": {
        "id": "YWyqSvLuKNlb"
      },
      "execution_count": null,
      "outputs": []
    },
    {
      "cell_type": "code",
      "source": [],
      "metadata": {
        "id": "GZYPJuvDKNiG"
      },
      "execution_count": null,
      "outputs": []
    },
    {
      "cell_type": "code",
      "source": [],
      "metadata": {
        "id": "5HeWB2iIKNfh"
      },
      "execution_count": null,
      "outputs": []
    },
    {
      "cell_type": "code",
      "source": [],
      "metadata": {
        "id": "uDsyfeOGKNc7"
      },
      "execution_count": null,
      "outputs": []
    },
    {
      "cell_type": "code",
      "source": [],
      "metadata": {
        "id": "-8-dHXkBKNZ-"
      },
      "execution_count": null,
      "outputs": []
    }
  ]
}